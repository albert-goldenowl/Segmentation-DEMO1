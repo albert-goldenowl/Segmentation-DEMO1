{
 "cells": [
  {
   "cell_type": "code",
   "execution_count": 1,
   "metadata": {},
   "outputs": [],
   "source": [
    "import os\n",
    "import tensorflow as tf\n",
    "import numpy as np\n",
    "import matplotlib.pyplot as plt\n",
    "import cv2\n",
    "import albumentations as A"
   ]
  },
  {
   "cell_type": "code",
   "execution_count": 2,
   "metadata": {},
   "outputs": [],
   "source": [
    "def visualize_mask(image, mask):\n",
    "    CLASSES = ['background', 'square', 'circle', 'triangle', 'star']\n",
    "\n",
    "    fig, ax = plt.subplots(nrows=1, ncols=6, figsize=(10, 10))\n",
    "    ax[0].set_title('Ori Image')\n",
    "    ax[0].imshow(image)\n",
    "    ax[0].axis('off')\n",
    "    \n",
    "    for i in range(1, 6, 1):\n",
    "        ax[i].set_title(CLASSES[i - 1])\n",
    "        ax[i].imshow(mask[:, :, i - 1])\n",
    "        ax[i].axis('off')"
   ]
  },
  {
   "cell_type": "code",
   "execution_count": 3,
   "metadata": {},
   "outputs": [
    {
     "name": "stdout",
     "output_type": "stream",
     "text": [
      "241\n"
     ]
    }
   ],
   "source": [
    "imglist = [img.split('.')[0] for img in os.listdir('images')]\n",
    "print(len(imglist))\n"
   ]
  },
  {
   "cell_type": "code",
   "execution_count": 12,
   "metadata": {},
   "outputs": [],
   "source": [
    "class Dataset:\n",
    "    CLASSES = ['background', 'square', 'circle', 'triangle', 'star']\n",
    "    # imgs_dir: folder of images\n",
    "    # masks_dir: folder of masks\n",
    "    # classes: classes we use\n",
    "    \n",
    "    def __init__(self, imgs_dir, masks_dir, classes, augmentation=True, preprocessing=True):\n",
    "        self.images_id = [img.split('.')[0] for img in os.listdir(imgs_dir)]\n",
    "        if '' in self.images_id:\n",
    "            self.images_id.remove('')\n",
    "        self.images_path = [os.path.join(imgs_dir, img_id) + '.jpg' for img_id in self.images_id]\n",
    "        self.masks_path = [os.path.join(masks_dir, img_id) + '.png' for img_id in self.images_id]\n",
    "        self.images = []\n",
    "        self.masks = []\n",
    "        self.class_value = [self.CLASSES.index(cls.lower()) for cls in classes]\n",
    "        self.augmentation = augmentation\n",
    "        self.preprocessing = preprocessing\n",
    "        for i in range(len(self.images_id)):\n",
    "            image = cv2.imread(self.images_path[i])\n",
    "            image = cv2.cvtColor(image, cv2.COLOR_BGR2RGB)\n",
    "            ori_mask = cv2.imread(self.masks_path[i])\n",
    "            if ori_mask is not None:\n",
    "                ori_mask = cv2.cvtColor(ori_mask, cv2.COLOR_BGR2RGB)\n",
    "            else:\n",
    "                ori_mask = np.zeros((256, 256, 3))\n",
    "            mask = np.zeros((ori_mask.shape[0], ori_mask.shape[1]), dtype=np.uint8)\n",
    "            mask[np.all(ori_mask == self.square, axis=-1)] = 1\n",
    "            mask[np.all(ori_mask == self.circle, axis=-1)] = 2\n",
    "            mask[np.all(ori_mask == self.triangle, axis=-1)] = 3\n",
    "            mask[np.all(ori_mask == self.star, axis=-1)] = 4\n",
    "            mask[np.all(ori_mask == self.background, axis=-1)] = 0\n",
    "            masks = [(mask == v) for v in self.class_value]\n",
    "            mask_output = np.stack(masks, axis=-1).astype(np.float32)\n",
    "            self.images.append(image)\n",
    "            self.masks.append(mask_output)\n",
    "        if self.augmentation:\n",
    "            transform = A.Compose([\n",
    "                A.HorizontalFlip(p=0.5),\n",
    "                A.VerticalFlip(p=0.5),\n",
    "                A.RandomRotate90(),\n",
    "                A.Perspective(p=0.8),\n",
    "                A.Transpose(p=0.5),\n",
    "                A.RandomBrightnessContrast((-0.2, 0.2), p=0.5)\n",
    "            ])\n",
    "            for i in range(len(self.images_id)):\n",
    "                for j in range(5):\n",
    "                    transformed1 = transform(image=self.images[i], mask=self.masks[i])\n",
    "                    self.images.append(transformed1['image'])\n",
    "                    self.masks.append(transformed1['mask'])\n",
    "\n",
    "    def __getitem__(self, index):\n",
    "        image = self.images[index]\n",
    "        if self.preprocessing:\n",
    "            image = image.astype(np.float32)\n",
    "            image = image / 255.0\n",
    "        return image, self.masks[index]\n",
    "\n",
    "\n",
    "    def __len__(self):\n",
    "        return len(self.images)\n"
   ]
  },
  {
   "cell_type": "code",
   "execution_count": 14,
   "metadata": {},
   "outputs": [],
   "source": [
    "cls = ['background', 'square', 'circle', 'triangle', 'star']\n",
    "\n",
    "train_data = Dataset('images', 'annotation', cls, True, True)"
   ]
  },
  {
   "cell_type": "code",
   "execution_count": 15,
   "metadata": {},
   "outputs": [],
   "source": [
    "class DataLoader(tf.keras.utils.Sequence):\n",
    "    \"\"\"\n",
    "    dataset:\n",
    "    batch_size:\n",
    "    shuffle: shuffle data or not\n",
    "    \"\"\"\n",
    "    def __init__(self, dataset, batch_size=1, shuffle=True):\n",
    "        self.dataset = dataset\n",
    "        self.batch_size = batch_size\n",
    "        self.shuffle = shuffle\n",
    "        self.on_epoch_end()\n",
    "    def __getitem__(self, index):\n",
    "        x = []\n",
    "        y = []\n",
    "        indexes = self.indexes[index * self.batch_size: (index + 1) * self.batch_size]\n",
    "        for j in indexes:\n",
    "            x.append(self.dataset[j][0])\n",
    "            y.append(self.dataset[j][1])\n",
    "        X = np.stack(x, axis=0)\n",
    "        Y = np.stack(y, axis=0)\n",
    "        batch = (X, Y)\n",
    "        return batch\n",
    "    def __len__(self):\n",
    "        return int(np.ceil(len(self.dataset) / self.batch_size))\n",
    "    def on_epoch_end(self):\n",
    "        self.indexes = np.arange(len(self.dataset))\n",
    "        if self.shuffle:\n",
    "            np.random.shuffle(self.indexes)\n"
   ]
  },
  {
   "cell_type": "code",
   "execution_count": 8,
   "metadata": {},
   "outputs": [],
   "source": [
    "dataloader = DataLoader(train_data, 16, False)"
   ]
  },
  {
   "cell_type": "code",
   "execution_count": null,
   "metadata": {},
   "outputs": [],
   "source": []
  }
 ],
 "metadata": {
  "kernelspec": {
   "display_name": "segmentation",
   "language": "python",
   "name": "python3"
  },
  "language_info": {
   "codemirror_mode": {
    "name": "ipython",
    "version": 3
   },
   "file_extension": ".py",
   "mimetype": "text/x-python",
   "name": "python",
   "nbconvert_exporter": "python",
   "pygments_lexer": "ipython3",
   "version": "3.10.12"
  },
  "orig_nbformat": 4
 },
 "nbformat": 4,
 "nbformat_minor": 2
}
